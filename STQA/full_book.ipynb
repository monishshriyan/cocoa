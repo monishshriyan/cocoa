{
 "cells": [
  {
   "cell_type": "markdown",
   "metadata": {},
   "source": [
    "## P3"
   ]
  },
  {
   "cell_type": "markdown",
   "metadata": {},
   "source": [
    "install selenium"
   ]
  },
  {
   "cell_type": "code",
   "execution_count": null,
   "metadata": {
    "vscode": {
     "languageId": "plaintext"
    }
   },
   "outputs": [],
   "source": [
    "package stqa3;\n",
    "\n",
    "import org.openqa.selenium.WebDriver;\n",
    "import org.openqa.selenium.chrome.ChromeDriver;\n",
    "\n",
    "/**\n",
    " * \n",
    " * @author sies\n",
    " */\n",
    "public class STQA3 {\n",
    "    public static void main(String[] args) {\n",
    "        System.setProperty(\"webdriver.chrome.driver\", \"C:/Users/sies/Desktop/NewFolder/chromedriver_104.exe\");\n",
    "        \n",
    "        WebDriver driver = new ChromeDriver();\n",
    "        driver.get(\"https://www.google.com\");\n",
    "        driver.manage().window().maximize();\n",
    "        \n",
    "        // driver.close();\n",
    "    }\n",
    "}"
   ]
  },
  {
   "cell_type": "markdown",
   "metadata": {},
   "source": [
    "## P4"
   ]
  },
  {
   "cell_type": "markdown",
   "metadata": {},
   "source": [
    "Login"
   ]
  },
  {
   "cell_type": "markdown",
   "metadata": {},
   "source": [
    "index.jsp"
   ]
  },
  {
   "cell_type": "code",
   "execution_count": null,
   "metadata": {
    "vscode": {
     "languageId": "plaintext"
    }
   },
   "outputs": [],
   "source": [
    "<%-- \n",
    "    Document   : index\n",
    "    Created on : 24 Oct, 2024, 1:26:13 PM\n",
    "    Author     : monis\n",
    "--%>\n",
    "\n",
    "<%@page contentType=\"text/html\" pageEncoding=\"UTF-8\"%>\n",
    "<!DOCTYPE html>\n",
    "<html>\n",
    "    <head>\n",
    "        <meta http-equiv=\"Content-Type\" content=\"text/html; charset=UTF-8\">\n",
    "        <title>JSP Page</title>\n",
    "    </head>\n",
    "    <body>\n",
    "        <%@ page import=\"java.io.*, javax.servlet.*, javax.servlet.http.*\" %>\n",
    "<%\n",
    "    // Get parameters from the request\n",
    "    String username = request.getParameter(\"username\");\n",
    "    String password = request.getParameter(\"password\");\n",
    "\n",
    "    // Authentication logic\n",
    "    if (\"abc\".equals(username) && \"abc\".equals(password)) {\n",
    "        out.println(\"Login Successful...!\");\n",
    "    } else {\n",
    "        out.println(\"Authentication failed...!\");\n",
    "    }\n",
    "%>\n",
    "\n",
    "    </body>\n",
    "</html>\n"
   ]
  },
  {
   "cell_type": "markdown",
   "metadata": {},
   "source": [
    "index.html"
   ]
  },
  {
   "cell_type": "code",
   "execution_count": null,
   "metadata": {
    "vscode": {
     "languageId": "plaintext"
    }
   },
   "outputs": [],
   "source": [
    "<!DOCTYPE html>\n",
    "<!--\n",
    "To change this license header, choose License Headers in Project Properties.\n",
    "To change this template file, choose Tools | Templates\n",
    "and open the template in the editor.\n",
    "-->\n",
    "<html>\n",
    "    <head>\n",
    "        <title>TODO supply a title</title>\n",
    "        <meta charset=\"UTF-8\">\n",
    "        <meta name=\"viewport\" content=\"width=device-width, initial-scale=1.0\">\n",
    "    </head>\n",
    "    <body>\n",
    "        <form action=\"index.jsp\" method=\"get\">\n",
    "            Enter Name: <input type=\"text\" name=\"username\" id=\"username\">\n",
    "            Enter Password: <input type=\"password\" name=\"password\" id=\"password\">\n",
    "            <input type=\"submit\" name=\"login\" id=\"login\" value=\"Login\">\n",
    "        </form>\n",
    "    </body>\n",
    "</html>\n"
   ]
  },
  {
   "cell_type": "markdown",
   "metadata": {},
   "source": [
    "## P5"
   ]
  },
  {
   "cell_type": "markdown",
   "metadata": {},
   "source": [
    "total no. of links, buttons and fields."
   ]
  },
  {
   "cell_type": "code",
   "execution_count": null,
   "metadata": {
    "vscode": {
     "languageId": "plaintext"
    }
   },
   "outputs": [],
   "source": [
    "package stqa5;\n",
    "\n",
    "import java.util.List;\n",
    "import org.openqa.selenium.By;\n",
    "import org.openqa.selenium.WebDriver;\n",
    "import org.openqa.selenium.WebElement;\n",
    "import org.openqa.selenium.chrome.ChromeDriver;\n",
    "\n",
    "public class STQA5 {\n",
    "    public static void main(String[] args) {\n",
    "        System.setProperty(\"webdriver.chrome.driver\", \"D:/User/Desktop/NewFolder/chromedriver_104.exe\");\n",
    "        \n",
    "        WebDriver driver = new ChromeDriver();\n",
    "        driver.manage().window().maximize();\n",
    "        driver.get(\"https://www.google.com\");\n",
    "        \n",
    "        List<WebElement> links = driver.findElements(By.tagName(\"a\"));\n",
    "        List<WebElement> buttons = driver.findElements(By.tagName(\"button\"));\n",
    "        List<WebElement> fields = driver.findElements(By.tagName(\"input\"));\n",
    "        \n",
    "        System.out.println(\"Total no. of links: \" + links.size());\n",
    "        System.out.println(\"Total no. of buttons: \" + buttons.size());\n",
    "        System.out.println(\"Total no. of fields: \" + fields.size());\n",
    "        \n",
    "        driver.quit();\n",
    "    }\n",
    "}"
   ]
  },
  {
   "cell_type": "markdown",
   "metadata": {},
   "source": [
    "# P6"
   ]
  },
  {
   "cell_type": "markdown",
   "metadata": {},
   "source": [
    "pass, fail, update student records"
   ]
  },
  {
   "cell_type": "code",
   "execution_count": null,
   "metadata": {
    "vscode": {
     "languageId": "plaintext"
    }
   },
   "outputs": [],
   "source": [
    "package pract6;\n",
    "\n",
    "import java.io.FileInputStream;\n",
    "import java.io.FileOutputStream;\n",
    "import jxl.Sheet;\n",
    "import jxl.Workbook;\n",
    "import jxl.write.Label;\n",
    "import jxl.write.WritableSheet;\n",
    "import jxl.write.WritableWorkbook;\n",
    "\n",
    "/**\n",
    " * \n",
    " * @author user\n",
    " */\n",
    "public class Pract6 {\n",
    "    public static void main(String[] args) throws Exception {\n",
    "        FileInputStream fi = new FileInputStream(\"C:\\\\Users\\\\Documents\\\\stqa\\\\Result.xls\");\n",
    "        Workbook w = Workbook.getWorkbook(fi);\n",
    "        Sheet s = w.getSheet(0);\n",
    "        String[][] a = new String[s.getRows()][s.getColumns()];\n",
    "\n",
    "        FileOutputStream fo = new FileOutputStream(\"C:\\\\Users\\\\Documents\\\\stqa\\\\Result2.xls\");\n",
    "        WritableWorkbook wwb = Workbook.createWorkbook(fo);\n",
    "        WritableSheet ws = wwb.createSheet(\"result\", 0);\n",
    "\n",
    "        for (int i = 0; i < s.getRows(); i++) {\n",
    "            for (int j = 0; j < s.getColumns(); j++) {\n",
    "                a[i][j] = s.getCell(j, i).getContents();\n",
    "                Label l = new Label(j, i, a[i][j]);\n",
    "                ws.addCell(l);\n",
    "            }\n",
    "        }\n",
    "\n",
    "        Label l = new Label(6, 0, \"Result\");\n",
    "        ws.addCell(l);\n",
    "\n",
    "        for (int i = 1; i < s.getRows(); i++) {\n",
    "            for (int j = 5; j < s.getColumns(); j++) {\n",
    "                a[i][j] = s.getCell(j, i).getContents();\n",
    "                int x = Integer.parseInt(a[i][j]);\n",
    "                if (x / 3 >= 35) {\n",
    "                    Label l1 = new Label(6, i, \"pass\");\n",
    "                    ws.addCell(l1);\n",
    "                } else {\n",
    "                    Label l1 = new Label(6, i, \"fail\");\n",
    "                    ws.addCell(l1);\n",
    "                    break;\n",
    "                }\n",
    "            }\n",
    "        }\n",
    "\n",
    "        wwb.write();\n",
    "        wwb.close();\n",
    "    }\n",
    "}"
   ]
  },
  {
   "cell_type": "markdown",
   "metadata": {},
   "source": [
    "## P7"
   ]
  },
  {
   "cell_type": "markdown",
   "metadata": {},
   "source": [
    "marks greater than 60"
   ]
  },
  {
   "cell_type": "code",
   "execution_count": null,
   "metadata": {
    "vscode": {
     "languageId": "plaintext"
    }
   },
   "outputs": [],
   "source": [
    "package stqa7;\n",
    "\n",
    "import java.io.FileInputStream;\n",
    "import java.io.FileOutputStream;\n",
    "import jxl.Sheet;\n",
    "import jxl.Workbook;\n",
    "import jxl.write.Label;\n",
    "import jxl.write.WritableSheet;\n",
    "import jxl.write.WritableWorkbook;\n",
    "\n",
    "public class STQA7 {\n",
    "    public static void main(String[] args) throws Exception {\n",
    "        FileInputStream fi = new FileInputStream(\"C:\\\\Users\\\\sies\\\\Desktop\\\\Book1.xls\");\n",
    "        Workbook w = Workbook.getWorkbook(fi);\n",
    "        Sheet s = w.getSheet(0);\n",
    "        String a[][] = new String[s.getRows()][s.getColumns()];\n",
    "\n",
    "        FileOutputStream fo = new FileOutputStream(\"C:\\\\Users\\\\sies\\\\Desktop\\\\Book3.xls\");\n",
    "        WritableWorkbook wwb = Workbook.createWorkbook(fo);\n",
    "        WritableSheet ws = wwb.createSheet(\"result1\", 0);\n",
    "\n",
    "        for (int i = 0; i < s.getRows(); i++) {\n",
    "            String temp[] = new String[s.getColumns()];\n",
    "            boolean flag = false;\n",
    "\n",
    "            for (int j = 0; j < s.getColumns(); j++) {\n",
    "                temp[j] = s.getCell(j, i).getContents();\n",
    "                if (i >= 1 && j >= 2 && j <= 4) {\n",
    "                    if (Integer.parseInt(temp[j]) >= 60) {\n",
    "                        flag = true;\n",
    "                    }\n",
    "                }\n",
    "            }\n",
    "\n",
    "            if (flag) {\n",
    "                for (int k = 0; k < temp.length; k++) {\n",
    "                    Label l2 = new Label(k, i, temp[k]);\n",
    "                    ws.addCell(l2);\n",
    "                }\n",
    "            }\n",
    "        }\n",
    "\n",
    "        wwb.write();\n",
    "        wwb.close();\n",
    "    }\n",
    "}"
   ]
  },
  {
   "cell_type": "markdown",
   "metadata": {},
   "source": [
    "## P8"
   ]
  },
  {
   "cell_type": "markdown",
   "metadata": {},
   "source": [
    "total no. of lists"
   ]
  },
  {
   "cell_type": "code",
   "execution_count": null,
   "metadata": {
    "vscode": {
     "languageId": "plaintext"
    }
   },
   "outputs": [],
   "source": [
    "package stqa8;\n",
    "\n",
    "import java.util.List;\n",
    "import org.openqa.selenium.By;\n",
    "import org.openqa.selenium.WebDriver;\n",
    "import org.openqa.selenium.WebElement;\n",
    "import org.openqa.selenium.chrome.ChromeDriver;\n",
    "\n",
    "public class STQA8 {\n",
    "    public static void main(String[] args) {\n",
    "        System.setProperty(\"webdriver.chrome.driver\", \"D:/User/Desktop/NewFolder/chromedriver_104.exe\");\n",
    "        WebDriver driver = new ChromeDriver();\n",
    "        driver.manage().window().maximize();\n",
    "        driver.get(\"http://localhost:81/list_combobox.html\");\n",
    "\n",
    "        List<WebElement> lists = driver.findElements(By.xpath(\"//ol/li\"));\n",
    "        System.out.println(\"Total no. of list: \" + lists.size());\n",
    "\n",
    "        // driver.quit();\n",
    "    }\n",
    "}"
   ]
  },
  {
   "cell_type": "code",
   "execution_count": null,
   "metadata": {
    "vscode": {
     "languageId": "plaintext"
    }
   },
   "outputs": [],
   "source": [
    "<h2>List</h2>\n",
    "<ol>\n",
    "<li>Sumanth </li>\n",
    "<li>Anantha </li>\n",
    "<li>Afzal </li>\n",
    "</ol>"
   ]
  },
  {
   "cell_type": "markdown",
   "metadata": {},
   "source": [
    "## P9"
   ]
  },
  {
   "cell_type": "markdown",
   "metadata": {},
   "source": [
    "checked boxes"
   ]
  },
  {
   "cell_type": "code",
   "execution_count": null,
   "metadata": {
    "vscode": {
     "languageId": "plaintext"
    }
   },
   "outputs": [],
   "source": [
    "package stqa9;\n",
    "\n",
    "import java.util.List;\n",
    "import org.openqa.selenium.By;\n",
    "import org.openqa.selenium.WebDriver;\n",
    "import org.openqa.selenium.WebElement;\n",
    "import org.openqa.selenium.chrome.ChromeDriver;\n",
    "\n",
    "public class STQA9 {\n",
    "    public static void main(String[] args) {\n",
    "        System.setProperty(\"webdriver.chrome.driver\", \"D:/User/Desktop/NewFolder/chromedriver_104.exe\");\n",
    "        WebDriver driver = new ChromeDriver();\n",
    "        driver.manage().window().maximize();\n",
    "        driver.get(\"http://localhost:81/list_combobox.html\");\n",
    "\n",
    "        List<WebElement> checkboxes = driver.findElements(By.cssSelector(\"input[type='checkbox']\"));\n",
    "        int checked = 0, unchecked = 0;\n",
    "\n",
    "        for (WebElement checkbox : checkboxes) {\n",
    "            if (checkbox.isSelected()) {\n",
    "                checked++;\n",
    "            } else {\n",
    "                unchecked++;\n",
    "            }\n",
    "        }\n",
    "\n",
    "        System.out.println(\"Total no. of checkboxes checked: \" + checked);\n",
    "        System.out.println(\"Total no. of checkboxes not checked: \" + unchecked);\n",
    "        driver.quit();\n",
    "    }\n",
    "}"
   ]
  },
  {
   "cell_type": "code",
   "execution_count": null,
   "metadata": {
    "vscode": {
     "languageId": "plaintext"
    }
   },
   "outputs": [],
   "source": [
    "<!DOCTYPE html>\n",
    "<html>\n",
    "<body>\n",
    "    <h2>ComboBox</h2>\n",
    "    <label for=\"colors\">Choose a color: </label>\n",
    "    <select name=\"colors\" id=\"color\">\n",
    "        <option value=\"Black\">Black</option>\n",
    "        <option value=\"White\">White</option>\n",
    "        <option value=\"Red\">Red</option>\n",
    "        <option value=\"Yellow\">Yellow</option>\n",
    "    </select>\n",
    "    <br><br>\n",
    "    <input type=\"checkbox\" id=\"vehicle1\" name=\"vehicle1\" value=\"Bike\">\n",
    "    <label for=\"vehicle1\">Bike</label><br>\n",
    "    <input type=\"checkbox\" id=\"vehicle2\" name=\"vehicle2\" value=\"Car\">\n",
    "    <label for=\"vehicle2\">Car</label><br>\n",
    "    <input type=\"checkbox\" id=\"vehicle3\" name=\"vehicle3\" value=\"Boat\">\n",
    "    <label for=\"vehicle3\">Boat</label><br>\n",
    "</body>\n",
    "</html>"
   ]
  }
 ],
 "metadata": {
  "language_info": {
   "name": "python"
  }
 },
 "nbformat": 4,
 "nbformat_minor": 2
}
